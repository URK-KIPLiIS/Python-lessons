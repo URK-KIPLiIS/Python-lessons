{
 "cells": [
  {
   "cell_type": "markdown",
   "metadata": {},
   "source": [
    "# Benchmark Python"
   ]
  },
  {
   "cell_type": "markdown",
   "metadata": {},
   "source": [
    "* Jak mierzyć czas wykonywania kodu w Pythonie?\n",
    "* Jak porównywać algorytmy w Pythonie?\n",
    "\n",
    "Eksperymenty wykonamy dla algorytmu sprawdzającego, czy zadana liczba jest liczbą pierwszą."
   ]
  },
  {
   "cell_type": "markdown",
   "metadata": {},
   "source": [
    "## Testy pierwszości"
   ]
  },
  {
   "cell_type": "markdown",
   "metadata": {},
   "source": [
    "### Algorytm 1: `is_prime_v1`\n",
    "\n",
    "Algorytm naiwny (_brute force_) sprawdzający, czy liczba `n` jest liczbą pierwszą. Jeśli `n` jest mniejsze od 2, zwracamy `False`. W przeciwnym razie, sprawdzamy, czy `n` jest podzielne przez jakąkolwiek liczbę od 2 do `n-1`. Jeśli tak, zwracamy `False`. W przeciwnym razie, zwracamy `True`."
   ]
  },
  {
   "cell_type": "code",
   "execution_count": null,
   "metadata": {},
   "outputs": [],
   "source": [
    "def is_prime_v1(n) -> bool:\n",
    "    if n < 2: return False\n",
    "    for i in range(2, n):\n",
    "        if n % i == 0: return False\n",
    "    return True\n",
    "\n",
    "assert is_prime_v1(53)==True\n",
    "assert is_prime_v1(55)==False"
   ]
  },
  {
   "cell_type": "markdown",
   "metadata": {},
   "source": [
    "### Algorytm 2: `is_prime_v2`\n",
    "\n",
    "Wprowadzamy optymalizację poprzedniego algorytmu. Zauważamy, że jeśli `n` jest podzielne przez jakąkolwiek liczbę od 2 do `n-1`, to jest również podzielne przez jakąkolwiek liczbę od 2 do `sqrt(n)`. Dlatego możemy zatrzymać pętlę, gdy `i` osiągnie `sqrt(n)`."
   ]
  },
  {
   "cell_type": "code",
   "execution_count": null,
   "metadata": {},
   "outputs": [],
   "source": [
    "def is_prime_v2(n):\n",
    "    if n < 2: return False\n",
    "    for i in range(2, int(n ** 0.5) + 1):\n",
    "        if n % i == 0: return False\n",
    "    return True\n",
    "\n",
    "assert is_prime_v1(53)==True\n",
    "assert is_prime_v1(55)==False"
   ]
  },
  {
   "cell_type": "markdown",
   "metadata": {},
   "source": [
    "### Algorytm 3: `is_prime_v3`\n",
    "\n",
    "Kolejna optymalizacja polega na zauważeniu, że liczby parzyste nie są liczbami pierwszymi (poza 2). Dlatego możemy zacząć od 3 i zwiększać `i` o 2, aby sprawdzić, czy `n` jest podzielne przez jakąkolwiek liczbę nieparzystą od 3 do `sqrt(n)`."
   ]
  },
  {
   "cell_type": "code",
   "execution_count": null,
   "metadata": {},
   "outputs": [],
   "source": [
    "def is_prime_v3(n):\n",
    "    if n < 2 : return False\n",
    "    if n == 2: return True\n",
    "    i = 3\n",
    "    while i ** 2 <= n:\n",
    "        if n % i == 0 : return False\n",
    "        i += 2\n",
    "    return True\n",
    "\n",
    "assert is_prime_v1(53)==True\n",
    "assert is_prime_v1(55)==False"
   ]
  },
  {
   "cell_type": "markdown",
   "metadata": {},
   "source": [
    "### Algorytm 4: `is_prime_v4`\n",
    "\n",
    "Kolejna optymalizacja polega na skorzystaniu z faktu, że liczby pierwsze większe od 3 mają postać `6k ± 1`. Dzięki temu możemy zacząć od 5 i zwiększać `i` o 6, aby sprawdzić, czy `n` jest podzielne przez jakąkolwiek liczbę postaci `6k ± 1` od 5 do `sqrt(n)`."
   ]
  },
  {
   "cell_type": "code",
   "execution_count": null,
   "metadata": {},
   "outputs": [],
   "source": [
    "def is_prime_v4(n):\n",
    "    if n < 2: return False\n",
    "    if n in (2, 3): return True\n",
    "    if n % 2 == 0 or n % 3 == 0:\n",
    "        return False\n",
    "    i = 5\n",
    "    while i ** 2 <= n:\n",
    "        if n % i == 0 or n % (i + 2) == 0:\n",
    "            return False\n",
    "        i += 6\n",
    "    return True\n",
    "\n",
    "assert is_prime_v1(53)==True\n",
    "assert is_prime_v1(55)==False"
   ]
  },
  {
   "cell_type": "markdown",
   "metadata": {},
   "source": [
    "### Referencje dotyczące testu pierwszości\n",
    "\n",
    "* https://en.wikipedia.org/wiki/Primality_test\n",
    "* [Big primes](https://bigprimes.org/)\n"
   ]
  },
  {
   "cell_type": "markdown",
   "metadata": {},
   "source": [
    "## Sposób 1: `time.time()`\n",
    "\n",
    "Spotykanym czasami sposobem na mierzenie czasu wykonywania kodu w Pythonie jest użycie funkcji `time.time()` z modułu `time`. Funkcja ta zwraca liczbę sekund od 1 stycznia 1970 roku. Możemy ją wywołać przed i po wykonaniu kodu, a następnie obliczyć różnicę między tymi dwoma czasami. Niestety, ten sposób nie jest zbyt dokładny, ponieważ funkcja `time()` korzysta z systemowej daty i czasu, która może być zmieniana przez użytkownika lub inne procesy (na przykład synchronizacja zegara systemowego z czasem uniwersalnym wykonywana podczas pomiaru czasu działania algorytmu). Ponadto, dokładność tej funkcji zależy od systemu operacyjnego, na którym jest uruchamiana. W związku z tym, nie jest to najlepszy sposób na obiektywne mierzenie czasu wykonywania kodu w Pythonie."
   ]
  },
  {
   "cell_type": "code",
   "execution_count": null,
   "metadata": {},
   "outputs": [],
   "source": [
    "import time\n",
    "\n",
    "t = time.time()\n",
    "print(is_prime_v1(49560499))\n",
    "print(time.time() - t)"
   ]
  },
  {
   "cell_type": "markdown",
   "metadata": {},
   "source": [
    "## Sposób 2: `time.perf_counter()`\n",
    "\n",
    "Moduł `time` zawiera również funkcję `time.perf_counter()`, która zwraca czas w sekundach z dokładnością do nanosekund. Funkcja ta jest zalecana do mierzenia czasu wykonywania kodu w Pythonie, ponieważ jest niezależna od systemu operacyjnego i zwraca czas z większą dokładnością (na podstawie taktów maszyny). Możemy ją wywołać przed i po wykonaniu kodu, a następnie obliczyć różnicę między tymi dwoma czasami. Funkcja `perf_counter()` została wprowadzona do Pythona właśnie po to, aby zastąpić funkcję `time()` do pomiaru czasu wykonywania kodu. Jest to zalecany sposób na obiektywne mierzenie czasu wykonywania kodu w Pythonie."
   ]
  },
  {
   "cell_type": "code",
   "execution_count": null,
   "metadata": {},
   "outputs": [],
   "source": [
    "import time\n",
    "\n",
    "t = time.perf_counter()\n",
    "print(is_prime_v1(49560499))\n",
    "print(time.perf_counter() - t)"
   ]
  },
  {
   "cell_type": "markdown",
   "metadata": {},
   "source": [
    "Drobne usprawnienie dla prcesu testowania - dekorator `@benchmark`\n",
    "\n",
    "```python\n",
    "import time\n",
    "\n",
    "# deklaracja dekoratora\n",
    "def benchmark(func):\n",
    "    def wrapper(*args, **kwargs):\n",
    "        start = time.perf_counter()\n",
    "        result = func(*args, **kwargs)\n",
    "        end = time.perf_counter()\n",
    "        print(f\"{func.__name__} executed in {end - start:.6f} seconds\")\n",
    "        return result\n",
    "    return wrapper\n",
    "```\n",
    "\n",
    "Teraz możemy oznaczyć funkcje, które chcemy przetestować, dekoratorem `@benchmark`:\n",
    "\n",
    "```python\n",
    "@benchmark\n",
    "def is_prime_v1(n):\n",
    "    if n < 2:\n",
    "        return False\n",
    "    for i in range(2, n):\n",
    "        if n % i == 0:\n",
    "            return False\n",
    "    return True\n",
    "```"
   ]
  },
  {
   "cell_type": "code",
   "execution_count": null,
   "metadata": {},
   "outputs": [],
   "source": [
    "# deklaracja dekoratora\n",
    "def benchmark(func):\n",
    "    import time\n",
    "    def wrapper(*args, **kwargs):\n",
    "        start = time.perf_counter()\n",
    "        result = func(*args, **kwargs)\n",
    "        end = time.perf_counter()\n",
    "        print(f\"{func.__name__}: czas wykonania {end - start:.6f} sekund\")\n",
    "        return result\n",
    "    return wrapper\n",
    "\n",
    "@benchmark\n",
    "def is_prime_v1(n):\n",
    "    if n < 2:\n",
    "        return False\n",
    "    for i in range(2, n):\n",
    "        if n % i == 0:\n",
    "            return False\n",
    "    return True\n",
    "\n",
    "print(is_prime_v1(49560499))"
   ]
  },
  {
   "cell_type": "markdown",
   "metadata": {},
   "source": [
    "## Sposób 3: moduł `timeit`\n",
    "\n",
    "Moduł `timeit` dostarcza proste metody do pomiaru czasu wykonywania kodu w Pythonie. Możemy użyć funkcji `timeit.timeit()` do pomiaru czasu wykonywania kodu. Funkcja ta przyjmuje trzy argumenty: kod, który chcemy zmierzyć, liczbę powtórzeń i liczbę powtórzeń dla każdego pomiaru. Funkcja `timeit.timeit()` zwraca czas wykonywania kodu w sekundach. Możemy również użyć funkcji `timeit.repeat()` do pomiaru czasu wykonywania kodu wielokrotnie. Funkcja ta zwraca listę czasów wykonywania kodu w sekundach. Możemy użyć tej funkcji do porównania czasu wykonywania różnych wersji kodu.\n",
    "\n",
    "https://docs.python.org/3/library/timeit.html\n",
    "\n",
    "\n",
    "Przykład użycia funkcji `timeit.timeit()` do pomiaru czasu wykonywania kodu - jednej funkcji:"
   ]
  },
  {
   "cell_type": "code",
   "execution_count": null,
   "metadata": {},
   "outputs": [],
   "source": [
    "import timeit\n",
    "\n",
    "print(timeit.timeit('is_prime_v1(49560499)', \n",
    "                    globals=globals(), \n",
    "                    number=1))"
   ]
  },
  {
   "cell_type": "markdown",
   "metadata": {},
   "source": [
    "Przykład użycia funkcji `timeit.timeit()` do pomiaru czasu wykonywania kodu - wielu funkcji:"
   ]
  },
  {
   "cell_type": "code",
   "execution_count": null,
   "metadata": {},
   "outputs": [],
   "source": [
    "import timeit\n",
    "\n",
    "for f in (is_prime_v1, is_prime_v2, is_prime_v3, is_prime_v4):\n",
    "    print(f\"{f.__name__}: \", timeit.timeit('f(49560499)', globals=globals(), number=1))\n"
   ]
  },
  {
   "cell_type": "markdown",
   "metadata": {},
   "source": [
    "## Sposób 4: polecenie `time` w linii poleceń (Linux)"
   ]
  },
  {
   "cell_type": "markdown",
   "metadata": {},
   "source": [
    "Całościowy czas działania aplikacji można zmierzyć za pomocą polecenia `time` w linii poleceń systemu operacyjnego Linux. Polecenie to mierzy czas wykonywania programu, w tym czas CPU, czas rzeczywisty i czas systemowy. Możemy użyć polecenia `time` do pomiaru czasu wykonywania skryptu Pythona. Polecenie to zwraca czas CPU, czas rzeczywisty i czas systemowy w sekundach. Możemy użyć tej metody do porównania czasu wykonywania różnych wersji kodu.\n",
    "\n",
    "```bash\n",
    "time python3 script.py\n",
    "```"
   ]
  },
  {
   "cell_type": "markdown",
   "metadata": {},
   "source": [
    "## Sposób 5: `pytest-benchmark`"
   ]
  },
  {
   "cell_type": "markdown",
   "metadata": {},
   "source": [
    "https://superfastpython.com/python-pytest-benchmark/"
   ]
  },
  {
   "cell_type": "markdown",
   "metadata": {},
   "source": [
    "## Sposób 6: `benchmarkit`"
   ]
  },
  {
   "cell_type": "markdown",
   "metadata": {},
   "source": [
    "https://superfastpython.com/python-benchmarkit/"
   ]
  }
 ],
 "metadata": {
  "kernelspec": {
   "display_name": "Python 3",
   "language": "python",
   "name": "python3"
  },
  "language_info": {
   "codemirror_mode": {
    "name": "ipython",
    "version": 3
   },
   "file_extension": ".py",
   "mimetype": "text/x-python",
   "name": "python",
   "nbconvert_exporter": "python",
   "pygments_lexer": "ipython3",
   "version": "3.12.2"
  }
 },
 "nbformat": 4,
 "nbformat_minor": 2
}
